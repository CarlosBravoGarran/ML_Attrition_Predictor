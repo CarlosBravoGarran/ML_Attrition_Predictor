{
 "cells": [
  {
   "cell_type": "markdown",
   "metadata": {},
   "source": [
    "Carlos Bravo Garrán - 100474964"
   ]
  },
  {
   "cell_type": "markdown",
   "metadata": {},
   "source": [
    "# Model Selection and Predictions\n",
    "\n",
    "In this notebook, we load the final trained model and apply it to the competition dataset in order to generate the final predictions required for submission.\n",
    "\n",
    "The model was selected after a comprehensive evaluation of several machine learning algorithms as part of the previous notebook (_01_EDA_and_Model_Train.ipynb_). \n",
    "\n",
    "The selected model was an optimized Support Vector Machine with an RBF kernel, which achieved the best balance between predictive performance and computational cost.\n",
    "\n",
    "In this notebook, we carry out the following steps:\n",
    "1. Load the trained model saved as _mejor_modelo.pkl_\n",
    "2. Load and preprocess the competition dataset (_attrition_competition_xx.csv_)\n",
    "3. Use the trained model to generate predictions\n",
    "4. Save the predictions in a CSV file named _predicciones.csv_\n",
    "\n",
    "These predictions will be used as the final submission for the practical assignment on employee attrition prediction."
   ]
  },
  {
   "cell_type": "code",
   "execution_count": 4,
   "metadata": {},
   "outputs": [],
   "source": [
    "import joblib\n",
    "import pandas as pd\n",
    "\n",
    "final_model = joblib.load(\"../outputs/modelo_final.pkl\")\n",
    "\n",
    "competition_df = pd.read_csv(\"../data/attrition_competition_03.csv\")\n",
    "\n",
    "predictions = final_model.predict(competition_df)\n",
    "\n",
    "# Convert 0 to \"No\" and 1 to \"Yes\"\n",
    "predictions_df = pd.DataFrame(predictions, columns=[\"Attrition\"])\n",
    "predictions_df[\"Attrition\"] = predictions_df[\"Attrition\"].replace({0: \"No\", 1: \"Si\"})\n",
    "\n",
    "predictions_df.to_csv(\"../outputs/predicciones.csv\", index=False)\n"
   ]
  }
 ],
 "metadata": {
  "kernelspec": {
   "display_name": "venv",
   "language": "python",
   "name": "python3"
  },
  "language_info": {
   "codemirror_mode": {
    "name": "ipython",
    "version": 3
   },
   "file_extension": ".py",
   "mimetype": "text/x-python",
   "name": "python",
   "nbconvert_exporter": "python",
   "pygments_lexer": "ipython3",
   "version": "3.12.3"
  }
 },
 "nbformat": 4,
 "nbformat_minor": 2
}
